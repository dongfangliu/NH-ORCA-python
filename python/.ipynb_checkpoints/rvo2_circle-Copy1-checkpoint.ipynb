{
 "cells": [
  {
   "cell_type": "code",
   "execution_count": 1,
   "metadata": {
    "collapsed": true,
    "deletable": true,
    "editable": true
   },
   "outputs": [],
   "source": [
    "import pyrvo2\n",
    "import numpy as np\n",
    "import math"
   ]
  },
  {
   "cell_type": "code",
   "execution_count": 2,
   "metadata": {
    "collapsed": true,
    "deletable": true,
    "editable": true
   },
   "outputs": [],
   "source": [
    "from pyrvo2 import *"
   ]
  },
  {
   "cell_type": "code",
   "execution_count": 3,
   "metadata": {
    "collapsed": true,
    "deletable": true,
    "editable": true
   },
   "outputs": [],
   "source": [
    "goals=[];\n",
    "timestep=0.25\n",
    "timeHorizon = 1.0\n",
    "radius = 0.075\n",
    "maxSpeed=0.65\n",
    "def  setupScenario(sim):\n",
    "    sim.setTimeStep(timestep);\n",
    "    sim.setAgentDefaults(15.0, 10,timeHorizon, 10.0, radius,maxSpeed,np.array([0,0]));\n",
    "    sim.addAgent(5.0 *np.array([1,0]))\n",
    "    sim.addAgent(5.0 *np.array([-1,0]))\n",
    "    goals.append(-sim.getAgentPosition(0))\n",
    "    goals.append(-sim.getAgentPosition(1))\n",
    "        \n",
    "def updateVisualization(sim):\n",
    "    print(sim.getGlobalTime());\n",
    "    for i in range(sim.getNumAgents()):\n",
    "        print(sim.getAgentPosition())\n",
    "\n",
    "def setPreferredVelocities( sim):\n",
    "    for i in range(sim.getNumAgents()):\n",
    "        goalVector = goals[i] - sim.getAgentPosition(i);\n",
    "        if (np.linalg.norm(goalVector) > 1.0):\n",
    "            goalVector = goalVector/np.linalg.norm(goalVector)\n",
    "        sim.setAgentPrefVelocity(i,maxSpeed*goalVector);\n",
    "\n",
    "def reachedGoal(sim):\n",
    "    for i in range(sim.getNumAgents()):\n",
    "        if (np.linalg.norm(sim.getAgentPosition(i) - goals[i]) > sim.getAgentRadius(i)):\n",
    "            return False;\n",
    "    return True;"
   ]
  },
  {
   "cell_type": "code",
   "execution_count": null,
   "metadata": {
    "collapsed": false,
    "deletable": true,
    "editable": true
   },
   "outputs": [
    {
     "name": "stdout",
     "output_type": "stream",
     "text": [
      "pygame 2.0.0 (SDL 2.0.12, python 2.7.15)\n",
      "Hello from the pygame community. https://www.pygame.org/contribute.html\n"
     ]
    }
   ],
   "source": [
    "import pygame as pg\n",
    "screen_size=[1000,1000]\n",
    "world_size =[20,20]\n",
    "screen=pg.display.set_mode(screen_size)\n",
    "screen_size= np.array(screen_size)\n",
    "screen_center = screen_size/2\n",
    "world_center = np.array([0,0])\n",
    "world_size = np.array(world_size)\n",
    "def getScreenPos(world_pos):\n",
    "    return (world_pos-world_center)/world_size*screen_size+screen_center\n",
    "def getScreenRadius(radius_world):\n",
    "    return radius_world/np.max(world_size)*np.max(screen_size)\n",
    "\n",
    "def visualize(sim):\n",
    "    screen.fill(pg.Color(\"white\"))\n",
    "    for i in range(sim.getNumAgents()):\n",
    "        pos = getScreenPos(sim.getAgentPosition(i))\n",
    "        radius = getScreenRadius(sim.getAgentRadius(i))\n",
    "        pg.draw.circle(screen,pg.Color(\"blue\"),(pos[0],pos[1]),radius,0)\n",
    "    pg.display.update()"
   ]
  },
  {
   "cell_type": "code",
   "execution_count": null,
   "metadata": {
    "collapsed": false,
    "deletable": true,
    "editable": true
   },
   "outputs": [],
   "source": [
    "import time\n",
    "start_time = time.time()\n",
    "sim = RVOSimulator();\n",
    "setupScenario(sim);\n",
    "while (not reachedGoal(sim)):\n",
    "    setPreferredVelocities(sim);\n",
    "    sim.step();\n",
    "    visualize(sim)\n",
    "    time.sleep(timestep)\n",
    "end_time = time.time()\n",
    "print(end_time-start_time)"
   ]
  },
  {
   "cell_type": "code",
   "execution_count": null,
   "metadata": {
    "collapsed": true,
    "deletable": true,
    "editable": true
   },
   "outputs": [],
   "source": []
  },
  {
   "cell_type": "code",
   "execution_count": null,
   "metadata": {
    "collapsed": true,
    "deletable": true,
    "editable": true
   },
   "outputs": [],
   "source": []
  },
  {
   "cell_type": "code",
   "execution_count": null,
   "metadata": {
    "collapsed": true
   },
   "outputs": [],
   "source": []
  },
  {
   "cell_type": "code",
   "execution_count": null,
   "metadata": {
    "collapsed": true
   },
   "outputs": [],
   "source": []
  }
 ],
 "metadata": {
  "kernelspec": {
   "display_name": "Python 2",
   "language": "python",
   "name": "python2"
  },
  "language_info": {
   "codemirror_mode": {
    "name": "ipython",
    "version": 2
   },
   "file_extension": ".py",
   "mimetype": "text/x-python",
   "name": "python",
   "nbconvert_exporter": "python",
   "pygments_lexer": "ipython2",
   "version": "2.7.15"
  }
 },
 "nbformat": 4,
 "nbformat_minor": 4
}
