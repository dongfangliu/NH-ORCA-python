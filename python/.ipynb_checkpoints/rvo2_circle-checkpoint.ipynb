{
 "cells": [
  {
   "cell_type": "code",
   "execution_count": 1,
   "metadata": {},
   "outputs": [],
   "source": [
    "import pyrvo2\n",
    "import numpy as np\n",
    "import math"
   ]
  },
  {
   "cell_type": "code",
   "execution_count": 2,
   "metadata": {},
   "outputs": [],
   "source": [
    "from pyrvo2 import *"
   ]
  },
  {
   "cell_type": "code",
   "execution_count": 3,
   "metadata": {},
   "outputs": [],
   "source": [
    "\n",
    "goals=[];\n",
    "def  setupScenario(sim):\n",
    "    sim.setTimeStep(0.25);\n",
    "    sim.setAgentDefaults(15.0, 10, 10.0, 10.0, 1.5, 2.0,np.array([0,0]));\n",
    "    for i in range(250):\n",
    "        sim.addAgent(200.0 *np.array([math.cos(i * 2.0 * math.pi / 250.0),\n",
    "                                   math.sin(i * 2.0 *  math.pi / 250.0)]))\n",
    "        goals.append(-sim.getAgentPosition(i));\n",
    "        \n",
    "def updateVisualization(sim):\n",
    "    print(sim.getGlobalTime());\n",
    "    for i in range(sim.getNumAgents()):\n",
    "        print(sim.getAgentPosition())\n",
    "\n",
    "def setPreferredVelocities( sim):\n",
    "    for i in range(sim.getNumAgents()):\n",
    "        goalVector = goals[i] - sim.getAgentPosition(i);\n",
    "        if (np.linalg.norm(goalVector) > 1.0):\n",
    "            goalVector = goalVector/np.linalg.norm(goalVector)\n",
    "        sim.setAgentPrefVelocity(i, goalVector);\n",
    "\n",
    "def reachedGoal(sim):\n",
    "    for i in range(sim.getNumAgents()):\n",
    "        if (np.linalg.norm(sim.getAgentPosition(i) - goals[i]) > sim.getAgentRadius(i)):\n",
    "            return False;\n",
    "    return True;"
   ]
  },
  {
   "cell_type": "code",
   "execution_count": 4,
   "metadata": {},
   "outputs": [
    {
     "name": "stdout",
     "output_type": "stream",
     "text": [
      "pygame 2.0.0 (SDL 2.0.12, python 3.8.3)\n",
      "Hello from the pygame community. https://www.pygame.org/contribute.html\n"
     ]
    }
   ],
   "source": [
    "import pygame as pg\n",
    "screen_size=[400,400]\n",
    "world_size =[500,500]\n",
    "screen=pg.display.set_mode(screen_size)\n",
    "screen_size= np.array(screen_size)\n",
    "screen_center = screen_size/2\n",
    "world_center = np.array([0,0])\n",
    "world_size = np.array(world_size)\n",
    "def getScreenPos(world_pos):\n",
    "    return (world_pos-world_center)/world_size*screen_size+screen_center\n",
    "def getScreenRadius(radius_world):\n",
    "    return radius_world/np.max(world_size)*np.max(screen_size)\n",
    "\n",
    "def visualize(sim):\n",
    "    screen.fill(pg.Color(\"white\"))\n",
    "    for i in range(sim.getNumAgents()):\n",
    "        pos = getScreenPos(sim.getAgentPosition(i))\n",
    "        radius = getScreenRadius(sim.getAgentRadius(i))\n",
    "        pg.draw.circle(screen,pg.Color(\"blue\"),(pos[0],pos[1]),radius,0)\n",
    "    pg.display.update()"
   ]
  },
  {
   "cell_type": "code",
   "execution_count": 5,
   "metadata": {},
   "outputs": [
    {
     "name": "stdout",
     "output_type": "stream",
     "text": [
      "76.2096107006073\n"
     ]
    }
   ],
   "source": [
    "import time\n",
    "start_time = time.time()\n",
    "sim = RVOSimulator();\n",
    "setupScenario(sim);\n",
    "while (not reachedGoal(sim)):\n",
    "    setPreferredVelocities(sim);\n",
    "    sim.step();\n",
    "    visualize(sim)\n",
    "end_time = time.time()\n",
    "print(end_time-start_time)"
   ]
  },
  {
   "cell_type": "code",
   "execution_count": null,
   "metadata": {},
   "outputs": [],
   "source": []
  }
 ],
 "metadata": {
  "kernelspec": {
   "display_name": "Python 3",
   "language": "python",
   "name": "python3"
  },
  "language_info": {
   "codemirror_mode": {
    "name": "ipython",
    "version": 3
   },
   "file_extension": ".py",
   "mimetype": "text/x-python",
   "name": "python",
   "nbconvert_exporter": "python",
   "pygments_lexer": "ipython3",
   "version": "3.8.3"
  }
 },
 "nbformat": 4,
 "nbformat_minor": 4
}
